{
  "nbformat": 4,
  "nbformat_minor": 0,
  "metadata": {
    "colab": {
      "name": "NLP_Deep_AutoVIML.ipynb",
      "provenance": [],
      "collapsed_sections": [],
      "authorship_tag": "ABX9TyNPdSdt2BxoyNs+f+7d2Vgg",
      "include_colab_link": true
    },
    "kernelspec": {
      "name": "python3",
      "display_name": "Python 3"
    },
    "language_info": {
      "name": "python"
    }
  },
  "cells": [
    {
      "cell_type": "markdown",
      "metadata": {
        "id": "view-in-github",
        "colab_type": "text"
      },
      "source": [
        "<a href=\"https://colab.research.google.com/github/sheemambabu/CMPE-297-Special-Topics/blob/main/Assignment_4/NLP_Deep_AutoVIML.ipynb\" target=\"_parent\"><img src=\"https://colab.research.google.com/assets/colab-badge.svg\" alt=\"Open In Colab\"/></a>"
      ]
    },
    {
      "cell_type": "code",
      "metadata": {
        "colab": {
          "base_uri": "https://localhost:8080/",
          "height": 1000
        },
        "id": "p2eqpqDLnOwo",
        "outputId": "69f5acd5-0c27-4289-b752-668be64e6378"
      },
      "source": [
        "!pip install deep_autoviml\n",
        "!pip install kaggle"
      ],
      "execution_count": 1,
      "outputs": [
        {
          "output_type": "stream",
          "name": "stdout",
          "text": [
            "Collecting deep_autoviml\n",
            "  Downloading deep_autoviml-0.0.69-py3-none-any.whl (139 kB)\n",
            "\u001b[K     |████████████████████████████████| 139 kB 819 kB/s \n",
            "\u001b[?25hRequirement already satisfied: xlrd in /usr/local/lib/python3.7/dist-packages (from deep_autoviml) (1.1.0)\n",
            "Requirement already satisfied: ipython in /usr/local/lib/python3.7/dist-packages (from deep_autoviml) (5.5.0)\n",
            "Requirement already satisfied: pandas in /usr/local/lib/python3.7/dist-packages (from deep_autoviml) (1.1.5)\n",
            "Collecting numpy==1.19.2\n",
            "  Downloading numpy-1.19.2-cp37-cp37m-manylinux2010_x86_64.whl (14.5 MB)\n",
            "\u001b[K     |████████████████████████████████| 14.5 MB 11.1 MB/s \n",
            "\u001b[?25hRequirement already satisfied: regex in /usr/local/lib/python3.7/dist-packages (from deep_autoviml) (2019.12.20)\n",
            "Collecting scikit-learn>=0.23.1\n",
            "  Downloading scikit_learn-1.0.1-cp37-cp37m-manylinux_2_12_x86_64.manylinux2010_x86_64.whl (23.2 MB)\n",
            "\u001b[K     |████████████████████████████████| 23.2 MB 1.6 MB/s \n",
            "\u001b[?25hCollecting tensorflow-text==2.5.0\n",
            "  Downloading tensorflow_text-2.5.0-cp37-cp37m-manylinux1_x86_64.whl (4.3 MB)\n",
            "\u001b[K     |████████████████████████████████| 4.3 MB 39.8 MB/s \n",
            "\u001b[?25hRequirement already satisfied: matplotlib in /usr/local/lib/python3.7/dist-packages (from deep_autoviml) (3.2.2)\n",
            "Requirement already satisfied: tensorflow-hub==0.12.0 in /usr/local/lib/python3.7/dist-packages (from deep_autoviml) (0.12.0)\n",
            "Collecting optuna\n",
            "  Downloading optuna-2.10.0-py3-none-any.whl (308 kB)\n",
            "\u001b[K     |████████████████████████████████| 308 kB 78.3 MB/s \n",
            "\u001b[?25hCollecting emoji\n",
            "  Downloading emoji-1.6.1.tar.gz (170 kB)\n",
            "\u001b[K     |████████████████████████████████| 170 kB 70.3 MB/s \n",
            "\u001b[?25hCollecting tensorflow==2.5.1\n",
            "  Downloading tensorflow-2.5.1-cp37-cp37m-manylinux2010_x86_64.whl (454.4 MB)\n",
            "\u001b[K     |████████████████████████████████| 454.4 MB 9.9 kB/s \n",
            "\u001b[?25hRequirement already satisfied: jupyter in /usr/local/lib/python3.7/dist-packages (from deep_autoviml) (1.0.0)\n",
            "Collecting storm-tuner>=0.0.8\n",
            "  Downloading storm_tuner-0.0.9-py3-none-any.whl (14 kB)\n",
            "Requirement already satisfied: keras-preprocessing~=1.1.2 in /usr/local/lib/python3.7/dist-packages (from tensorflow==2.5.1->deep_autoviml) (1.1.2)\n",
            "Collecting keras-nightly~=2.5.0.dev\n",
            "  Downloading keras_nightly-2.5.0.dev2021032900-py2.py3-none-any.whl (1.2 MB)\n",
            "\u001b[K     |████████████████████████████████| 1.2 MB 58.6 MB/s \n",
            "\u001b[?25hRequirement already satisfied: six~=1.15.0 in /usr/local/lib/python3.7/dist-packages (from tensorflow==2.5.1->deep_autoviml) (1.15.0)\n",
            "Requirement already satisfied: flatbuffers~=1.12.0 in /usr/local/lib/python3.7/dist-packages (from tensorflow==2.5.1->deep_autoviml) (1.12)\n",
            "Requirement already satisfied: gast==0.4.0 in /usr/local/lib/python3.7/dist-packages (from tensorflow==2.5.1->deep_autoviml) (0.4.0)\n",
            "Requirement already satisfied: typing-extensions~=3.7.4 in /usr/local/lib/python3.7/dist-packages (from tensorflow==2.5.1->deep_autoviml) (3.7.4.3)\n",
            "Collecting tensorflow-estimator<2.6.0,>=2.5.0\n",
            "  Downloading tensorflow_estimator-2.5.0-py2.py3-none-any.whl (462 kB)\n",
            "\u001b[K     |████████████████████████████████| 462 kB 56.2 MB/s \n",
            "\u001b[?25hRequirement already satisfied: wrapt~=1.12.1 in /usr/local/lib/python3.7/dist-packages (from tensorflow==2.5.1->deep_autoviml) (1.12.1)\n",
            "Collecting grpcio~=1.34.0\n",
            "  Downloading grpcio-1.34.1-cp37-cp37m-manylinux2014_x86_64.whl (4.0 MB)\n",
            "\u001b[K     |████████████████████████████████| 4.0 MB 45.6 MB/s \n",
            "\u001b[?25hRequirement already satisfied: google-pasta~=0.2 in /usr/local/lib/python3.7/dist-packages (from tensorflow==2.5.1->deep_autoviml) (0.2.0)\n",
            "Requirement already satisfied: astunparse~=1.6.3 in /usr/local/lib/python3.7/dist-packages (from tensorflow==2.5.1->deep_autoviml) (1.6.3)\n",
            "Requirement already satisfied: opt-einsum~=3.3.0 in /usr/local/lib/python3.7/dist-packages (from tensorflow==2.5.1->deep_autoviml) (3.3.0)\n",
            "Requirement already satisfied: protobuf>=3.9.2 in /usr/local/lib/python3.7/dist-packages (from tensorflow==2.5.1->deep_autoviml) (3.17.3)\n",
            "Requirement already satisfied: h5py~=3.1.0 in /usr/local/lib/python3.7/dist-packages (from tensorflow==2.5.1->deep_autoviml) (3.1.0)\n",
            "Requirement already satisfied: wheel~=0.35 in /usr/local/lib/python3.7/dist-packages (from tensorflow==2.5.1->deep_autoviml) (0.37.0)\n",
            "Requirement already satisfied: absl-py~=0.10 in /usr/local/lib/python3.7/dist-packages (from tensorflow==2.5.1->deep_autoviml) (0.12.0)\n",
            "Requirement already satisfied: tensorboard~=2.5 in /usr/local/lib/python3.7/dist-packages (from tensorflow==2.5.1->deep_autoviml) (2.6.0)\n",
            "Requirement already satisfied: termcolor~=1.1.0 in /usr/local/lib/python3.7/dist-packages (from tensorflow==2.5.1->deep_autoviml) (1.1.0)\n",
            "Requirement already satisfied: cached-property in /usr/local/lib/python3.7/dist-packages (from h5py~=3.1.0->tensorflow==2.5.1->deep_autoviml) (1.5.2)\n",
            "Collecting threadpoolctl>=2.0.0\n",
            "  Downloading threadpoolctl-3.0.0-py3-none-any.whl (14 kB)\n",
            "Requirement already satisfied: joblib>=0.11 in /usr/local/lib/python3.7/dist-packages (from scikit-learn>=0.23.1->deep_autoviml) (1.0.1)\n",
            "Requirement already satisfied: scipy>=1.1.0 in /usr/local/lib/python3.7/dist-packages (from scikit-learn>=0.23.1->deep_autoviml) (1.4.1)\n",
            "Requirement already satisfied: tensorboard-data-server<0.7.0,>=0.6.0 in /usr/local/lib/python3.7/dist-packages (from tensorboard~=2.5->tensorflow==2.5.1->deep_autoviml) (0.6.1)\n",
            "Requirement already satisfied: requests<3,>=2.21.0 in /usr/local/lib/python3.7/dist-packages (from tensorboard~=2.5->tensorflow==2.5.1->deep_autoviml) (2.23.0)\n",
            "Requirement already satisfied: google-auth-oauthlib<0.5,>=0.4.1 in /usr/local/lib/python3.7/dist-packages (from tensorboard~=2.5->tensorflow==2.5.1->deep_autoviml) (0.4.6)\n",
            "Requirement already satisfied: setuptools>=41.0.0 in /usr/local/lib/python3.7/dist-packages (from tensorboard~=2.5->tensorflow==2.5.1->deep_autoviml) (57.4.0)\n",
            "Requirement already satisfied: werkzeug>=0.11.15 in /usr/local/lib/python3.7/dist-packages (from tensorboard~=2.5->tensorflow==2.5.1->deep_autoviml) (1.0.1)\n",
            "Requirement already satisfied: google-auth<2,>=1.6.3 in /usr/local/lib/python3.7/dist-packages (from tensorboard~=2.5->tensorflow==2.5.1->deep_autoviml) (1.35.0)\n",
            "Requirement already satisfied: markdown>=2.6.8 in /usr/local/lib/python3.7/dist-packages (from tensorboard~=2.5->tensorflow==2.5.1->deep_autoviml) (3.3.4)\n",
            "Requirement already satisfied: tensorboard-plugin-wit>=1.6.0 in /usr/local/lib/python3.7/dist-packages (from tensorboard~=2.5->tensorflow==2.5.1->deep_autoviml) (1.8.0)\n",
            "Requirement already satisfied: pyasn1-modules>=0.2.1 in /usr/local/lib/python3.7/dist-packages (from google-auth<2,>=1.6.3->tensorboard~=2.5->tensorflow==2.5.1->deep_autoviml) (0.2.8)\n",
            "Requirement already satisfied: rsa<5,>=3.1.4 in /usr/local/lib/python3.7/dist-packages (from google-auth<2,>=1.6.3->tensorboard~=2.5->tensorflow==2.5.1->deep_autoviml) (4.7.2)\n",
            "Requirement already satisfied: cachetools<5.0,>=2.0.0 in /usr/local/lib/python3.7/dist-packages (from google-auth<2,>=1.6.3->tensorboard~=2.5->tensorflow==2.5.1->deep_autoviml) (4.2.4)\n",
            "Requirement already satisfied: requests-oauthlib>=0.7.0 in /usr/local/lib/python3.7/dist-packages (from google-auth-oauthlib<0.5,>=0.4.1->tensorboard~=2.5->tensorflow==2.5.1->deep_autoviml) (1.3.0)\n",
            "Requirement already satisfied: importlib-metadata in /usr/local/lib/python3.7/dist-packages (from markdown>=2.6.8->tensorboard~=2.5->tensorflow==2.5.1->deep_autoviml) (4.8.1)\n",
            "Requirement already satisfied: pyasn1<0.5.0,>=0.4.6 in /usr/local/lib/python3.7/dist-packages (from pyasn1-modules>=0.2.1->google-auth<2,>=1.6.3->tensorboard~=2.5->tensorflow==2.5.1->deep_autoviml) (0.4.8)\n",
            "Requirement already satisfied: urllib3!=1.25.0,!=1.25.1,<1.26,>=1.21.1 in /usr/local/lib/python3.7/dist-packages (from requests<3,>=2.21.0->tensorboard~=2.5->tensorflow==2.5.1->deep_autoviml) (1.24.3)\n",
            "Requirement already satisfied: certifi>=2017.4.17 in /usr/local/lib/python3.7/dist-packages (from requests<3,>=2.21.0->tensorboard~=2.5->tensorflow==2.5.1->deep_autoviml) (2021.5.30)\n",
            "Requirement already satisfied: idna<3,>=2.5 in /usr/local/lib/python3.7/dist-packages (from requests<3,>=2.21.0->tensorboard~=2.5->tensorflow==2.5.1->deep_autoviml) (2.10)\n",
            "Requirement already satisfied: chardet<4,>=3.0.2 in /usr/local/lib/python3.7/dist-packages (from requests<3,>=2.21.0->tensorboard~=2.5->tensorflow==2.5.1->deep_autoviml) (3.0.4)\n",
            "Requirement already satisfied: oauthlib>=3.0.0 in /usr/local/lib/python3.7/dist-packages (from requests-oauthlib>=0.7.0->google-auth-oauthlib<0.5,>=0.4.1->tensorboard~=2.5->tensorflow==2.5.1->deep_autoviml) (3.1.1)\n",
            "Requirement already satisfied: zipp>=0.5 in /usr/local/lib/python3.7/dist-packages (from importlib-metadata->markdown>=2.6.8->tensorboard~=2.5->tensorflow==2.5.1->deep_autoviml) (3.6.0)\n",
            "Requirement already satisfied: pygments in /usr/local/lib/python3.7/dist-packages (from ipython->deep_autoviml) (2.6.1)\n",
            "Requirement already satisfied: decorator in /usr/local/lib/python3.7/dist-packages (from ipython->deep_autoviml) (4.4.2)\n",
            "Requirement already satisfied: traitlets>=4.2 in /usr/local/lib/python3.7/dist-packages (from ipython->deep_autoviml) (5.1.0)\n",
            "Requirement already satisfied: pexpect in /usr/local/lib/python3.7/dist-packages (from ipython->deep_autoviml) (4.8.0)\n",
            "Requirement already satisfied: pickleshare in /usr/local/lib/python3.7/dist-packages (from ipython->deep_autoviml) (0.7.5)\n",
            "Requirement already satisfied: prompt-toolkit<2.0.0,>=1.0.4 in /usr/local/lib/python3.7/dist-packages (from ipython->deep_autoviml) (1.0.18)\n",
            "Requirement already satisfied: simplegeneric>0.8 in /usr/local/lib/python3.7/dist-packages (from ipython->deep_autoviml) (0.8.1)\n",
            "Requirement already satisfied: wcwidth in /usr/local/lib/python3.7/dist-packages (from prompt-toolkit<2.0.0,>=1.0.4->ipython->deep_autoviml) (0.2.5)\n",
            "Requirement already satisfied: ipywidgets in /usr/local/lib/python3.7/dist-packages (from jupyter->deep_autoviml) (7.6.5)\n",
            "Requirement already satisfied: jupyter-console in /usr/local/lib/python3.7/dist-packages (from jupyter->deep_autoviml) (5.2.0)\n",
            "Requirement already satisfied: ipykernel in /usr/local/lib/python3.7/dist-packages (from jupyter->deep_autoviml) (4.10.1)\n",
            "Requirement already satisfied: qtconsole in /usr/local/lib/python3.7/dist-packages (from jupyter->deep_autoviml) (5.1.1)\n",
            "Requirement already satisfied: notebook in /usr/local/lib/python3.7/dist-packages (from jupyter->deep_autoviml) (5.3.1)\n",
            "Requirement already satisfied: nbconvert in /usr/local/lib/python3.7/dist-packages (from jupyter->deep_autoviml) (5.6.1)\n",
            "Requirement already satisfied: tornado>=4.0 in /usr/local/lib/python3.7/dist-packages (from ipykernel->jupyter->deep_autoviml) (5.1.1)\n",
            "Requirement already satisfied: jupyter-client in /usr/local/lib/python3.7/dist-packages (from ipykernel->jupyter->deep_autoviml) (5.3.5)\n",
            "Requirement already satisfied: ipython-genutils~=0.2.0 in /usr/local/lib/python3.7/dist-packages (from ipywidgets->jupyter->deep_autoviml) (0.2.0)\n",
            "Requirement already satisfied: jupyterlab-widgets>=1.0.0 in /usr/local/lib/python3.7/dist-packages (from ipywidgets->jupyter->deep_autoviml) (1.0.2)\n",
            "Requirement already satisfied: nbformat>=4.2.0 in /usr/local/lib/python3.7/dist-packages (from ipywidgets->jupyter->deep_autoviml) (5.1.3)\n",
            "Requirement already satisfied: widgetsnbextension~=3.5.0 in /usr/local/lib/python3.7/dist-packages (from ipywidgets->jupyter->deep_autoviml) (3.5.1)\n",
            "Requirement already satisfied: jsonschema!=2.5.0,>=2.4 in /usr/local/lib/python3.7/dist-packages (from nbformat>=4.2.0->ipywidgets->jupyter->deep_autoviml) (2.6.0)\n",
            "Requirement already satisfied: jupyter-core in /usr/local/lib/python3.7/dist-packages (from nbformat>=4.2.0->ipywidgets->jupyter->deep_autoviml) (4.8.1)\n",
            "Requirement already satisfied: Send2Trash in /usr/local/lib/python3.7/dist-packages (from notebook->jupyter->deep_autoviml) (1.8.0)\n",
            "Requirement already satisfied: jinja2 in /usr/local/lib/python3.7/dist-packages (from notebook->jupyter->deep_autoviml) (2.11.3)\n",
            "Requirement already satisfied: terminado>=0.8.1 in /usr/local/lib/python3.7/dist-packages (from notebook->jupyter->deep_autoviml) (0.12.1)\n",
            "Requirement already satisfied: python-dateutil>=2.1 in /usr/local/lib/python3.7/dist-packages (from jupyter-client->ipykernel->jupyter->deep_autoviml) (2.8.2)\n",
            "Requirement already satisfied: pyzmq>=13 in /usr/local/lib/python3.7/dist-packages (from jupyter-client->ipykernel->jupyter->deep_autoviml) (22.3.0)\n",
            "Requirement already satisfied: ptyprocess in /usr/local/lib/python3.7/dist-packages (from terminado>=0.8.1->notebook->jupyter->deep_autoviml) (0.7.0)\n",
            "Requirement already satisfied: MarkupSafe>=0.23 in /usr/local/lib/python3.7/dist-packages (from jinja2->notebook->jupyter->deep_autoviml) (2.0.1)\n",
            "Requirement already satisfied: cycler>=0.10 in /usr/local/lib/python3.7/dist-packages (from matplotlib->deep_autoviml) (0.10.0)\n",
            "Requirement already satisfied: pyparsing!=2.0.4,!=2.1.2,!=2.1.6,>=2.0.1 in /usr/local/lib/python3.7/dist-packages (from matplotlib->deep_autoviml) (2.4.7)\n",
            "Requirement already satisfied: kiwisolver>=1.0.1 in /usr/local/lib/python3.7/dist-packages (from matplotlib->deep_autoviml) (1.3.2)\n",
            "Requirement already satisfied: defusedxml in /usr/local/lib/python3.7/dist-packages (from nbconvert->jupyter->deep_autoviml) (0.7.1)\n",
            "Requirement already satisfied: testpath in /usr/local/lib/python3.7/dist-packages (from nbconvert->jupyter->deep_autoviml) (0.5.0)\n",
            "Requirement already satisfied: entrypoints>=0.2.2 in /usr/local/lib/python3.7/dist-packages (from nbconvert->jupyter->deep_autoviml) (0.3)\n",
            "Requirement already satisfied: pandocfilters>=1.4.1 in /usr/local/lib/python3.7/dist-packages (from nbconvert->jupyter->deep_autoviml) (1.5.0)\n",
            "Requirement already satisfied: mistune<2,>=0.8.1 in /usr/local/lib/python3.7/dist-packages (from nbconvert->jupyter->deep_autoviml) (0.8.4)\n",
            "Requirement already satisfied: bleach in /usr/local/lib/python3.7/dist-packages (from nbconvert->jupyter->deep_autoviml) (4.1.0)\n",
            "Requirement already satisfied: webencodings in /usr/local/lib/python3.7/dist-packages (from bleach->nbconvert->jupyter->deep_autoviml) (0.5.1)\n",
            "Requirement already satisfied: packaging in /usr/local/lib/python3.7/dist-packages (from bleach->nbconvert->jupyter->deep_autoviml) (21.0)\n",
            "Requirement already satisfied: PyYAML in /usr/local/lib/python3.7/dist-packages (from optuna->deep_autoviml) (3.13)\n",
            "Collecting cliff\n",
            "  Downloading cliff-3.9.0-py3-none-any.whl (80 kB)\n",
            "\u001b[K     |████████████████████████████████| 80 kB 9.8 MB/s \n",
            "\u001b[?25hRequirement already satisfied: tqdm in /usr/local/lib/python3.7/dist-packages (from optuna->deep_autoviml) (4.62.3)\n",
            "Collecting alembic\n",
            "  Downloading alembic-1.7.4-py3-none-any.whl (209 kB)\n",
            "\u001b[K     |████████████████████████████████| 209 kB 51.1 MB/s \n",
            "\u001b[?25hCollecting colorlog\n",
            "  Downloading colorlog-6.5.0-py2.py3-none-any.whl (11 kB)\n",
            "Requirement already satisfied: sqlalchemy>=1.1.0 in /usr/local/lib/python3.7/dist-packages (from optuna->deep_autoviml) (1.4.25)\n",
            "Collecting cmaes>=0.8.2\n",
            "  Downloading cmaes-0.8.2-py3-none-any.whl (15 kB)\n",
            "Requirement already satisfied: greenlet!=0.4.17 in /usr/local/lib/python3.7/dist-packages (from sqlalchemy>=1.1.0->optuna->deep_autoviml) (1.1.2)\n",
            "Requirement already satisfied: importlib-resources in /usr/local/lib/python3.7/dist-packages (from alembic->optuna->deep_autoviml) (5.2.2)\n",
            "Collecting Mako\n",
            "  Downloading Mako-1.1.5-py2.py3-none-any.whl (75 kB)\n",
            "\u001b[K     |████████████████████████████████| 75 kB 5.8 MB/s \n",
            "\u001b[?25hCollecting stevedore>=2.0.1\n",
            "  Downloading stevedore-3.5.0-py3-none-any.whl (49 kB)\n",
            "\u001b[K     |████████████████████████████████| 49 kB 5.6 MB/s \n",
            "\u001b[?25hCollecting pbr!=2.1.0,>=2.0.0\n",
            "  Downloading pbr-5.7.0-py2.py3-none-any.whl (112 kB)\n",
            "\u001b[K     |████████████████████████████████| 112 kB 49.6 MB/s \n",
            "\u001b[?25hCollecting cmd2>=1.0.0\n",
            "  Downloading cmd2-2.2.0-py3-none-any.whl (144 kB)\n",
            "\u001b[K     |████████████████████████████████| 144 kB 55.5 MB/s \n",
            "\u001b[?25hRequirement already satisfied: PrettyTable>=0.7.2 in /usr/local/lib/python3.7/dist-packages (from cliff->optuna->deep_autoviml) (2.2.1)\n",
            "Collecting autopage>=0.4.0\n",
            "  Downloading autopage-0.4.0-py3-none-any.whl (20 kB)\n",
            "Collecting colorama>=0.3.7\n",
            "  Downloading colorama-0.4.4-py2.py3-none-any.whl (16 kB)\n",
            "Collecting pyperclip>=1.6\n",
            "  Downloading pyperclip-1.8.2.tar.gz (20 kB)\n",
            "Requirement already satisfied: attrs>=16.3.0 in /usr/local/lib/python3.7/dist-packages (from cmd2>=1.0.0->cliff->optuna->deep_autoviml) (21.2.0)\n",
            "Requirement already satisfied: pytz>=2017.2 in /usr/local/lib/python3.7/dist-packages (from pandas->deep_autoviml) (2018.9)\n",
            "Requirement already satisfied: qtpy in /usr/local/lib/python3.7/dist-packages (from qtconsole->jupyter->deep_autoviml) (1.11.2)\n",
            "Building wheels for collected packages: emoji, pyperclip\n",
            "  Building wheel for emoji (setup.py) ... \u001b[?25l\u001b[?25hdone\n",
            "  Created wheel for emoji: filename=emoji-1.6.1-py3-none-any.whl size=169314 sha256=c12966181bfe83594a181d3d05fbb5dc9801d69bae87400f6d4c9969c2b8e56e\n",
            "  Stored in directory: /root/.cache/pip/wheels/ea/5f/d3/03d313ddb3c2a1a427bb4690f1621eea60fe6f2a30cc95940f\n",
            "  Building wheel for pyperclip (setup.py) ... \u001b[?25l\u001b[?25hdone\n",
            "  Created wheel for pyperclip: filename=pyperclip-1.8.2-py3-none-any.whl size=11136 sha256=92361b79563f576299f29c69e2f377cf479b3ec898df9f13baff9acf32f84960\n",
            "  Stored in directory: /root/.cache/pip/wheels/9f/18/84/8f69f8b08169c7bae2dde6bd7daf0c19fca8c8e500ee620a28\n",
            "Successfully built emoji pyperclip\n",
            "Installing collected packages: pyperclip, pbr, numpy, grpcio, colorama, tensorflow-estimator, stevedore, Mako, keras-nightly, cmd2, autopage, threadpoolctl, tensorflow, colorlog, cmaes, cliff, alembic, tensorflow-text, storm-tuner, scikit-learn, optuna, emoji, deep-autoviml\n",
            "  Attempting uninstall: numpy\n",
            "    Found existing installation: numpy 1.19.5\n",
            "    Uninstalling numpy-1.19.5:\n",
            "      Successfully uninstalled numpy-1.19.5\n",
            "  Attempting uninstall: grpcio\n",
            "    Found existing installation: grpcio 1.41.0\n",
            "    Uninstalling grpcio-1.41.0:\n",
            "      Successfully uninstalled grpcio-1.41.0\n",
            "  Attempting uninstall: tensorflow-estimator\n",
            "    Found existing installation: tensorflow-estimator 2.6.0\n",
            "    Uninstalling tensorflow-estimator-2.6.0:\n",
            "      Successfully uninstalled tensorflow-estimator-2.6.0\n",
            "  Attempting uninstall: tensorflow\n",
            "    Found existing installation: tensorflow 2.6.0\n",
            "    Uninstalling tensorflow-2.6.0:\n",
            "      Successfully uninstalled tensorflow-2.6.0\n",
            "  Attempting uninstall: scikit-learn\n",
            "    Found existing installation: scikit-learn 0.22.2.post1\n",
            "    Uninstalling scikit-learn-0.22.2.post1:\n",
            "      Successfully uninstalled scikit-learn-0.22.2.post1\n",
            "\u001b[31mERROR: pip's dependency resolver does not currently take into account all the packages that are installed. This behaviour is the source of the following dependency conflicts.\n",
            "datascience 0.10.6 requires folium==0.2.1, but you have folium 0.8.3 which is incompatible.\n",
            "albumentations 0.1.12 requires imgaug<0.2.7,>=0.2.5, but you have imgaug 0.2.9 which is incompatible.\u001b[0m\n",
            "Successfully installed Mako-1.1.5 alembic-1.7.4 autopage-0.4.0 cliff-3.9.0 cmaes-0.8.2 cmd2-2.2.0 colorama-0.4.4 colorlog-6.5.0 deep-autoviml-0.0.69 emoji-1.6.1 grpcio-1.34.1 keras-nightly-2.5.0.dev2021032900 numpy-1.19.2 optuna-2.10.0 pbr-5.7.0 pyperclip-1.8.2 scikit-learn-1.0.1 stevedore-3.5.0 storm-tuner-0.0.9 tensorflow-2.5.1 tensorflow-estimator-2.5.0 tensorflow-text-2.5.0 threadpoolctl-3.0.0\n"
          ]
        },
        {
          "output_type": "display_data",
          "data": {
            "application/vnd.colab-display-data+json": {
              "pip_warning": {
                "packages": [
                  "numpy"
                ]
              }
            }
          },
          "metadata": {}
        },
        {
          "output_type": "stream",
          "name": "stdout",
          "text": [
            "Requirement already satisfied: kaggle in /usr/local/lib/python3.7/dist-packages (1.5.12)\n",
            "Requirement already satisfied: requests in /usr/local/lib/python3.7/dist-packages (from kaggle) (2.23.0)\n",
            "Requirement already satisfied: tqdm in /usr/local/lib/python3.7/dist-packages (from kaggle) (4.62.3)\n",
            "Requirement already satisfied: python-slugify in /usr/local/lib/python3.7/dist-packages (from kaggle) (5.0.2)\n",
            "Requirement already satisfied: urllib3 in /usr/local/lib/python3.7/dist-packages (from kaggle) (1.24.3)\n",
            "Requirement already satisfied: certifi in /usr/local/lib/python3.7/dist-packages (from kaggle) (2021.5.30)\n",
            "Requirement already satisfied: python-dateutil in /usr/local/lib/python3.7/dist-packages (from kaggle) (2.8.2)\n",
            "Requirement already satisfied: six>=1.10 in /usr/local/lib/python3.7/dist-packages (from kaggle) (1.15.0)\n",
            "Requirement already satisfied: text-unidecode>=1.3 in /usr/local/lib/python3.7/dist-packages (from python-slugify->kaggle) (1.3)\n",
            "Requirement already satisfied: chardet<4,>=3.0.2 in /usr/local/lib/python3.7/dist-packages (from requests->kaggle) (3.0.4)\n",
            "Requirement already satisfied: idna<3,>=2.5 in /usr/local/lib/python3.7/dist-packages (from requests->kaggle) (2.10)\n"
          ]
        }
      ]
    },
    {
      "cell_type": "code",
      "metadata": {
        "colab": {
          "base_uri": "https://localhost:8080/"
        },
        "id": "F6y8a9_Pn33q",
        "outputId": "49f9adcb-f165-45ca-c858-e490c15a1f52"
      },
      "source": [
        "from deep_autoviml import deep_autoviml as deepauto\n",
        "import numpy as np\n",
        "import pandas as pd\n",
        "from sklearn.model_selection import train_test_split\n",
        "from sklearn.preprocessing import StandardScaler\n",
        "from sklearn.metrics import classification_report, confusion_matrix, balanced_accuracy_score"
      ],
      "execution_count": 2,
      "outputs": [
        {
          "output_type": "stream",
          "name": "stdout",
          "text": [
            "\n",
            "Imported deep_auto_viml. version=0.0.69\n",
            "from deep_autoviml import deep_autoviml as deepauto\n",
            "-------------------\n",
            "model, cat_vocab_dict = deepauto.fit(train, target, keras_model_type=\"fast\",\n",
            "\t\tproject_name=\"deep_autoviml\", keras_options=keras_options,  \n",
            "\t\tmodel_options=model_options, save_model_flag=True, use_my_model='',\n",
            "\t\tmodel_use_case='', verbose=0)\n",
            "\n",
            "predictions = deepauto.predict(model, project_name, test_dataset=test,\n",
            "                                 keras_model_type=keras_model_type, \n",
            "                                 cat_vocab_dict=cat_vocab_dict)\n",
            "                                \n"
          ]
        }
      ]
    },
    {
      "cell_type": "markdown",
      "metadata": {
        "id": "qc2Ak7vHn6xH"
      },
      "source": [
        "# Download Data from kaggle"
      ]
    },
    {
      "cell_type": "code",
      "metadata": {
        "colab": {
          "resources": {
            "http://localhost:8080/nbextensions/google.colab/files.js": {
              "data": "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",
              "ok": true,
              "headers": [
                [
                  "content-type",
                  "application/javascript"
                ]
              ],
              "status": 200,
              "status_text": ""
            }
          },
          "base_uri": "https://localhost:8080/",
          "height": 89
        },
        "id": "oi0NTfjRn6cL",
        "outputId": "26cb3cc1-2bce-46e9-d318-c431817d0cf6"
      },
      "source": [
        "from google.colab import files\n",
        "files.upload()"
      ],
      "execution_count": 3,
      "outputs": [
        {
          "output_type": "display_data",
          "data": {
            "text/html": [
              "\n",
              "     <input type=\"file\" id=\"files-e2f027b8-13a4-45ef-9386-ba512f4cac8f\" name=\"files[]\" multiple disabled\n",
              "        style=\"border:none\" />\n",
              "     <output id=\"result-e2f027b8-13a4-45ef-9386-ba512f4cac8f\">\n",
              "      Upload widget is only available when the cell has been executed in the\n",
              "      current browser session. Please rerun this cell to enable.\n",
              "      </output>\n",
              "      <script src=\"/nbextensions/google.colab/files.js\"></script> "
            ],
            "text/plain": [
              "<IPython.core.display.HTML object>"
            ]
          },
          "metadata": {}
        },
        {
          "output_type": "stream",
          "name": "stdout",
          "text": [
            "Saving kaggle.json to kaggle.json\n"
          ]
        },
        {
          "output_type": "execute_result",
          "data": {
            "text/plain": [
              "{'kaggle.json': b'{\"username\":\"sheemamurugeshbabu\",\"key\":\"d8495fdd9a753c308915990ee0e22e2b\"}'}"
            ]
          },
          "metadata": {},
          "execution_count": 3
        }
      ]
    },
    {
      "cell_type": "code",
      "metadata": {
        "id": "zAIXHK51n_HF"
      },
      "source": [
        "! mkdir ~/.kaggle\n",
        "! cp kaggle.json ~/.kaggle/\n",
        "! chmod 600 ~/.kaggle/kaggle.json"
      ],
      "execution_count": 4,
      "outputs": []
    },
    {
      "cell_type": "code",
      "metadata": {
        "colab": {
          "base_uri": "https://localhost:8080/"
        },
        "id": "VBawda7aoCRL",
        "outputId": "bd0733e7-47cb-48f5-c717-8e3d71e38f75"
      },
      "source": [
        "! kaggle datasets download arkhoshghalb/twitter-sentiment-analysis-hatred-speech"
      ],
      "execution_count": 5,
      "outputs": [
        {
          "output_type": "stream",
          "name": "stdout",
          "text": [
            "Downloading twitter-sentiment-analysis-hatred-speech.zip to /content\n",
            "\r  0% 0.00/1.89M [00:00<?, ?B/s]\n",
            "\r100% 1.89M/1.89M [00:00<00:00, 30.9MB/s]\n"
          ]
        }
      ]
    },
    {
      "cell_type": "code",
      "metadata": {
        "colab": {
          "base_uri": "https://localhost:8080/"
        },
        "id": "fneyNEKroFhP",
        "outputId": "e1ec1ca8-c533-4c50-f4ad-483f1c36b538"
      },
      "source": [
        "! unzip twitter-sentiment-analysis-hatred-speech.zip"
      ],
      "execution_count": 6,
      "outputs": [
        {
          "output_type": "stream",
          "name": "stdout",
          "text": [
            "Archive:  twitter-sentiment-analysis-hatred-speech.zip\n",
            "  inflating: test.csv                \n",
            "  inflating: train.csv               \n"
          ]
        }
      ]
    },
    {
      "cell_type": "code",
      "metadata": {
        "colab": {
          "base_uri": "https://localhost:8080/"
        },
        "id": "nEyY0SmioQAL",
        "outputId": "f91ea586-4fd0-457e-e330-4ee3293676b1"
      },
      "source": [
        "! ls"
      ],
      "execution_count": 7,
      "outputs": [
        {
          "output_type": "stream",
          "name": "stdout",
          "text": [
            "kaggle.json  test.csv\ttwitter-sentiment-analysis-hatred-speech.zip\n",
            "sample_data  train.csv\n"
          ]
        }
      ]
    },
    {
      "cell_type": "code",
      "metadata": {
        "colab": {
          "base_uri": "https://localhost:8080/",
          "height": 221
        },
        "id": "Z7Nr-m6roXQl",
        "outputId": "9ccbaa18-fe53-4430-aa0d-e3bc7a99105c"
      },
      "source": [
        "trainpath = '/content/train.csv'\n",
        "df = pd.read_csv(trainpath, encoding='ISO-8859-1')\n",
        "print(df.shape)\n",
        "df.head()"
      ],
      "execution_count": 8,
      "outputs": [
        {
          "output_type": "stream",
          "name": "stdout",
          "text": [
            "(31962, 3)\n"
          ]
        },
        {
          "output_type": "execute_result",
          "data": {
            "text/html": [
              "<div>\n",
              "<style scoped>\n",
              "    .dataframe tbody tr th:only-of-type {\n",
              "        vertical-align: middle;\n",
              "    }\n",
              "\n",
              "    .dataframe tbody tr th {\n",
              "        vertical-align: top;\n",
              "    }\n",
              "\n",
              "    .dataframe thead th {\n",
              "        text-align: right;\n",
              "    }\n",
              "</style>\n",
              "<table border=\"1\" class=\"dataframe\">\n",
              "  <thead>\n",
              "    <tr style=\"text-align: right;\">\n",
              "      <th></th>\n",
              "      <th>id</th>\n",
              "      <th>label</th>\n",
              "      <th>tweet</th>\n",
              "    </tr>\n",
              "  </thead>\n",
              "  <tbody>\n",
              "    <tr>\n",
              "      <th>0</th>\n",
              "      <td>1</td>\n",
              "      <td>0</td>\n",
              "      <td>@user when a father is dysfunctional and is s...</td>\n",
              "    </tr>\n",
              "    <tr>\n",
              "      <th>1</th>\n",
              "      <td>2</td>\n",
              "      <td>0</td>\n",
              "      <td>@user @user thanks for #lyft credit i can't us...</td>\n",
              "    </tr>\n",
              "    <tr>\n",
              "      <th>2</th>\n",
              "      <td>3</td>\n",
              "      <td>0</td>\n",
              "      <td>bihday your majesty</td>\n",
              "    </tr>\n",
              "    <tr>\n",
              "      <th>3</th>\n",
              "      <td>4</td>\n",
              "      <td>0</td>\n",
              "      <td>#model   i love u take with u all the time in ...</td>\n",
              "    </tr>\n",
              "    <tr>\n",
              "      <th>4</th>\n",
              "      <td>5</td>\n",
              "      <td>0</td>\n",
              "      <td>factsguide: society now    #motivation</td>\n",
              "    </tr>\n",
              "  </tbody>\n",
              "</table>\n",
              "</div>"
            ],
            "text/plain": [
              "   id  label                                              tweet\n",
              "0   1      0   @user when a father is dysfunctional and is s...\n",
              "1   2      0  @user @user thanks for #lyft credit i can't us...\n",
              "2   3      0                                bihday your majesty\n",
              "3   4      0  #model   i love u take with u all the time in ...\n",
              "4   5      0             factsguide: society now    #motivation"
            ]
          },
          "metadata": {},
          "execution_count": 8
        }
      ]
    },
    {
      "cell_type": "code",
      "metadata": {
        "colab": {
          "base_uri": "https://localhost:8080/"
        },
        "id": "LbAHDTohr0bx",
        "outputId": "51ac446d-24a0-4ce2-d1e6-becb72d3989a"
      },
      "source": [
        "target = 'label'\n",
        "df[target].value_counts()"
      ],
      "execution_count": 9,
      "outputs": [
        {
          "output_type": "execute_result",
          "data": {
            "text/plain": [
              "0    29720\n",
              "1     2242\n",
              "Name: label, dtype: int64"
            ]
          },
          "metadata": {},
          "execution_count": 9
        }
      ]
    },
    {
      "cell_type": "code",
      "metadata": {
        "id": "t-MYdwYSo-T1"
      },
      "source": [
        "keras_model_type =  \"auto\" ## always try \"auto\" first, then \"basic\", \"deep\", \"BERT\", \"USE\", cnn1\", \"LSTM\" etc.\n",
        "keras_options = {\"early_stopping\": True, 'epochs': 50, 'steps_per_epoch': 15, 'class_weight': True}  ### always set early_stopping to True first and then change it to False\n",
        "model_options = {'tuner':\"storm\", \"max_trials\":10 }"
      ],
      "execution_count": 10,
      "outputs": []
    },
    {
      "cell_type": "code",
      "metadata": {
        "colab": {
          "base_uri": "https://localhost:8080/",
          "height": 1000
        },
        "id": "va5oxV69pEEv",
        "outputId": "fb1376b7-788c-4751-d257-f446d983828f"
      },
      "source": [
        "model, dicti = deepauto.fit(trainpath, target, keras_model_type=keras_model_type, \n",
        "                            project_name='Twitter_sentiment',\n",
        "                 save_model_flag=False, model_options=model_options,\n",
        "                            keras_options=keras_options, use_my_model='', verbose=2)"
      ],
      "execution_count": 11,
      "outputs": [
        {
          "output_type": "stream",
          "name": "stdout",
          "text": [
            "    Only CPU found on this device\n",
            "Setting CPU strategy using 1 devices\n",
            "Using following keras_options given as input:\n",
            "    epochs : 50\n",
            "    steps_per_epoch : 15\n",
            "    class_weight : True\n",
            "    early_stopping : True\n",
            "Using following model_options given as input:\n",
            "    max_trials : 10\n",
            "    tuner : storm\n",
            "Max Trials : 10. Please increase max_trials if you want to better accuracy...\n",
            "\n",
            "#################################################################################\n",
            "###########     L O A D I N G    D A T A    I N T O   TF.DATA.DATASET H E R E  #\n",
            "#################################################################################\n",
            "        \n",
            "CSV file being loaded into tf.data.Dataset\n",
            "    Since number of rows > maxrows, loading a random sample of 10000 rows into pandas for EDA\n",
            "Alert! Modified column names to satisfy rules for column names in Tensorflow...\n",
            "    Model type is Classification and Single_Label problem\n",
            "Loaded a small data sample of size = (10000, 3) into pandas dataframe to analyze...\n",
            "    Classifying variables using data sample in pandas...\n",
            "############## C L A S S I F Y I N G  V A R I A B L E S  ####################\n",
            "Classifying variables in data set...\n",
            "Data Set Shape: 10000 rows, 2 cols\n",
            "Data Set columns info:\n",
            "* id: 0 nulls, 10000 unique vals, most common: {10235: 1, 11591: 1}\n",
            "* tweet: 0 nulls, 9491 unique vals, most common: {'#model   i love u take with u all the time in urð\\x9f\\x93±!!! ð\\x9f\\x98\\x99ð\\x9f\\x98\\x8eð\\x9f\\x91\\x84ð\\x9f\\x91\\x85ð\\x9f\\x92¦ð\\x9f\\x92¦ð\\x9f\\x92¦  ': 86, \"aww yeah it's all good bing bong bing bong   \": 25}\n",
            "--------------------------------------------------------------------\n",
            "    2 Predictors classified...\n",
            "    possible latitude columns in dataset: []\n",
            "        after further analysis, no latitude columns found\n",
            "    possible longitude columns in dataset: []\n",
            "        after further analysis, no longitude columns found\n",
            "        1 variable(s) to be removed since they were ID or low-information variables\n",
            "    List of variables to be removed: ['id']\n",
            "Data Set Shape: 10000 rows, 3 cols\n",
            "   Columns to delete:\n",
            "\"   ['id']\"\n",
            "   Categorical variables: \n",
            "'   []'\n",
            "   Continuous variables:\n",
            "'   []'\n",
            "   Discrete string variables: \n",
            "'   []'\n",
            "   NLP string variables: \n",
            "\"   ['tweet']\"\n",
            "   Date and time variables: \n",
            "'   []'\n",
            "   ID variables %s \n",
            "\"   ['id']\"\n",
            "   Target variable %s \n",
            "'   label'\n",
            "Distribution of string columns in datatset:\n",
            "    number of binary = 0, cats = 0, high cats = 0, very high cats = 1\n",
            "Distribution of integer columns in datatset:\n",
            "    number of binary = 1, cats = 0, high cats = 0, very high cats = 1\n",
            "Distribution of floats:\n",
            "    number float variables = 0\n",
            "No data transformations needed in this dataset\n",
            "    we transformed ['id'] from integer to float\n",
            "printing first five values of label: [0 0 1 0 0]\n",
            "printing features and their max, min, datatypes in one batch \n",
            "tweet is detected and will be treated as an NLP variable\n",
            "  '    sample words from vocab': tweet\n",
            "  '    size of vocab'      : 511976\n",
            "  '    max'                : defaultdict(<function nested_dictionary at 0x7f7b31cf6710>, {})\n",
            "  '    min'                : defaultdict(<function nested_dictionary at 0x7f7b31cf6710>, {})\n",
            "  '    dtype'              : string\n",
            "    after data cleaning, number of predictors used in modeling = 1\n",
            "Not performing feature crossing for categorical nor integer variables\n",
            "Loading your input file(s) data directly into tf.data.Dataset...\n",
            "    train data loaded successfully.\n",
            "\n",
            "Number of predictors to be used = 1 in predict step: keras preprocessing...\n",
            "Dropping ['id'] columns marked for deletion...\n",
            "Boolean column successfully processed\n",
            "    combined NLP or text vars: ['tweet'] into a single feature successfully\n",
            "Printing one batch from the dataset:\n",
            "id                                      : [1 2 3 4]\n",
            "tweet                                   : [b' @user when a father is dysfunctional and is so selfish he drags his kids into his dysfunction.   #run'\n",
            " b\"@user @user thanks for #lyft credit i can't use cause they don't offer wheelchair vans in pdx.    #disapointed #getthanked\"\n",
            " b'  bihday your majesty'\n",
            " b'#model   i love u take with u all the time in ur\\xc3\\xb0\\xc2\\x9f\\xc2\\x93\\xc2\\xb1!!! \\xc3\\xb0\\xc2\\x9f\\xc2\\x98\\xc2\\x99\\xc3\\xb0\\xc2\\x9f\\xc2\\x98\\xc2\\x8e\\xc3\\xb0\\xc2\\x9f\\xc2\\x91\\xc2\\x84\\xc3\\xb0\\xc2\\x9f\\xc2\\x91\\xc2\\x85\\xc3\\xb0\\xc2\\x9f\\xc2\\x92\\xc2\\xa6\\xc3\\xb0\\xc2\\x9f\\xc2\\x92\\xc2\\xa6\\xc3\\xb0\\xc2\\x9f\\xc2\\x92\\xc2\\xa6  ']\n",
            "combined_nlp_text                       : [b' @user when a father is dysfunctional and is so selfish he drags his kids into his dysfunction.   #run'\n",
            " b\"@user @user thanks for #lyft credit i can't use cause they don't offer wheelchair vans in pdx.    #disapointed #getthanked\"\n",
            " b'  bihday your majesty'\n",
            " b'#model   i love u take with u all the time in ur\\xc3\\xb0\\xc2\\x9f\\xc2\\x93\\xc2\\xb1!!! \\xc3\\xb0\\xc2\\x9f\\xc2\\x98\\xc2\\x99\\xc3\\xb0\\xc2\\x9f\\xc2\\x98\\xc2\\x8e\\xc3\\xb0\\xc2\\x9f\\xc2\\x91\\xc2\\x84\\xc3\\xb0\\xc2\\x9f\\xc2\\x91\\xc2\\x85\\xc3\\xb0\\xc2\\x9f\\xc2\\x92\\xc2\\xa6\\xc3\\xb0\\xc2\\x9f\\xc2\\x92\\xc2\\xa6\\xc3\\xb0\\xc2\\x9f\\xc2\\x92\\xc2\\xa6  ']\n",
            "       Class  -> Counts -> Percent\n",
            "           0:    9311  ->   93.1%\n",
            "           1:     689  ->    6.9%\n",
            "    Class weights calculated: {0: 1.0, 1: 7.256894049346879}\n",
            "\n",
            "#################################################################################\n",
            "###########     K E R A S     F E A T U R E    P R E P R O C E S S I N G  #######\n",
            "#################################################################################\n",
            "        \n",
            "Starting NLP string column layer preprocessing...\n",
            "Creating aggregate_nlp_dictionaries for nlp column = tweet\n",
            "    size of vocabulary = 511976\n",
            "    sequence length = 247\n",
            "    recommended embedding_size = 128\n",
            "Max vocab size = 19619\n",
            "    Auto NNLM 50 with Normalization selected from: https://tfhub.dev/google/nnlm-en-dim50-with-normalization/2\n",
            "    NLP Preprocessing completed.\n",
            "Preprocessing non-NLP layers for auto Keras model...\n",
            "    Non-NLP vars is zero in this dataset. No tabular preprocesing needed...\n",
            "There is no numeric or cat or int variables in this data set.\n",
            "    (None, 50) vector dimensions from NLP variable\n",
            "\n",
            "Creating a new Functional model here...\n",
            "\n",
            "#################################################################################\n",
            "###########     C R E A T I N G    A    K E R A S       M O D E L    ############\n",
            "#################################################################################\n",
            "        \n",
            "Creating a keras Function model...\n",
            "    number of outputs = 1, output_activation = sigmoid\n",
            "    loss function: SparseCategoricalCrossentropy\n",
            "    initial learning rate = 0.05\n",
            "    initial optimizer = SGD\n",
            "    Recommended hidden layers (with units in each Dense Layer)  = (192, 128, 64)\n",
            "\n",
            "    creating auto model body...\n",
            "\n",
            "Saving model architecture after training in Twitter_sentiment/auto/model_2021_11_07-17_12_47/artifacts/model_before.png...will take time...\n",
            "Model plot saved in file: Twitter_sentiment/auto/model_2021_11_07-17_12_47/artifacts/model_before.png\n"
          ]
        },
        {
          "output_type": "display_data",
          "data": {
            "image/png": "[encoded data removed]",
            "text/plain": [
              "<IPython.core.display.Image object>"
            ]
          },
          "metadata": {
            "image/png": {
              "width": 48,
              "height": 22
            }
          }
        },
        {
          "output_type": "stream",
          "name": "stdout",
          "text": [
            "\n",
            "#################################################################################\n",
            "###########     T R A I N I N G    K E R A S   M O D E L   H E R E      #########\n",
            "#################################################################################\n",
            "    \n",
            "Building and training an automatic model using storm Tuner...\n",
            "    Class weights: {0: 1.0, 1: 7.256894049346879}\n",
            "    original datasize = 31963, initial batchsize = 32\n",
            "    Early stopping : True\n",
            "    recommended steps per epoch = 10\n",
            "    default initializer = lecun_normal, default activation = selu\n",
            "    Onecycle steps = 25000\n",
            "    number of classes = 2, output_activation = sigmoid\n",
            "    loss function: SparseCategoricalCrossentropy\n",
            "    steps_per_epoch = 15, number epochs = 50\n",
            "    val mode = max, val monitor = val_balanced_sparse_categorical_accuracy, patience = 10\n",
            "Tensorboard log directory can be found at: deep_autoviml/mylogs\n",
            "    chosen keras LR scheduler = default\n",
            "\n",
            "Splitting train into 80+20 percent: train and validation data\n",
            "    Splitting validation 20 into 10+10 percent: valid and heldout data\n",
            "Single-Label: Heldout data shape: (3200,)\n",
            "    Training auto model using storm. This will take time...\n",
            "new tuner initialized\n",
            "    STORM Tuner max_trials = 10, randomization factor = 0.5\n",
            "Max. batch size = 64, number of batch sizes to try: 5\n",
            "\n",
            "-------- OPTIMIZING HYPERPARAMETERS --------\n",
            "\n",
            "    found best learning rate = 9.880539e-05\n",
            "<><><> NEW BEST! <><><>\n",
            "\tactivation : selu\n",
            "\tbatch_norm : False\n",
            "\tbatch_size : 32\n",
            "\tdropout_value : 0.2\n",
            "\tepsilon : 1e-08\n",
            "\tinit_lr : 0.0001\n",
            "\tkernel_initializer : glorot_uniform\n",
            "\tkernel_size_0 : 400\n",
            "\tnum_layers : 3\n",
            "\toptimizer : Adam\n",
            "\tuse_batch_norm : True\n",
            "\tuse_bias : False\n",
            "\tuse_dropout : True\n",
            "\tweight_decay : 0.001\n",
            "1 | score: 0.80962554\n",
            "    found best learning rate = 9.880539e-05\n",
            "2 | score: 0.72622675\n",
            "    found best learning rate = 0.000988054\n",
            "3 | score: 0.78000486\n",
            "    found best learning rate = 0.009880539\n",
            "4 | score: 0.74387497\n",
            "    found best learning rate = 0.000988054\n",
            "5 | score: 0.77540218\n",
            "    found best learning rate = 9.880539e-05\n",
            "6 | score: 0.71654668\n",
            "    found best learning rate = 9.880539e-05\n",
            "7 | score: 0.80385305\n",
            "    found best learning rate = 9.880539e-05\n",
            "10 | score: 0.81094267\n",
            "tuner finished 10 trials!\n",
            "final best config:\n",
            "\tactivation : selu\n",
            "\tbatch_norm : False\n",
            "\tbatch_size : 32\n",
            "\tdropout_value : 0.1\n",
            "\tepsilon : 1e-08\n",
            "\tinit_lr : 0.0001\n",
            "\tkernel_initializer : glorot_uniform\n",
            "\tkernel_size_0 : 450\n",
            "\tnum_layers : 3\n",
            "\toptimizer : Adam\n",
            "\tuse_batch_norm : True\n",
            "\tuse_bias : False\n",
            "\tuse_dropout : True\n",
            "\tweight_decay : 0.001\n",
            "    best trial selected as <storm_tuner.tuner.Trial object at 0x7f7b1ef48b90>\n",
            "Time taken for tuning hyperparameters = 6 (mins)\n",
            "Best hyperparameters: {'batch_size': 32, 'num_layers': 3, 'activation': 'selu', 'use_bias': False, 'weight_decay': 0.001, 'batch_norm': False, 'kernel_initializer': 'glorot_uniform', 'use_dropout': True, 'use_batch_norm': True, 'kernel_size_0': 450, 'dropout_value': 0.1, 'optimizer': 'Adam', 'init_lr': 0.0001, 'epsilon': 1e-08}\n",
            "\n",
            "Setting best optimizer Adam its best learning_rate = 9.880539e-05\n",
            "Model training with best hyperparameters for 50 epochs\n",
            "    Callback added: EarlyStopping object at 0x7f7b201051d0>\n",
            "    Callback added: TensorBoard object at 0x7f7b20105150>\n",
            "    Callback added: LearningRateScheduler object at 0x7f7b2001cf10>\n",
            "Epoch 1/50\n",
            "499/499 [==============================] - 8s 12ms/step - loss: 1.8556 - balanced_sparse_categorical_accuracy: 0.7329 - val_loss: 1.4350 - val_balanced_sparse_categorical_accuracy: 0.8097\n",
            "Epoch 2/50\n",
            "499/499 [==============================] - 7s 13ms/step - loss: 1.6276 - balanced_sparse_categorical_accuracy: 0.7820 - val_loss: 1.3435 - val_balanced_sparse_categorical_accuracy: 0.8147\n",
            "Epoch 3/50\n",
            "499/499 [==============================] - 6s 12ms/step - loss: 1.5280 - balanced_sparse_categorical_accuracy: 0.8035 - val_loss: 1.3070 - val_balanced_sparse_categorical_accuracy: 0.8031\n",
            "Epoch 4/50\n",
            "499/499 [==============================] - 6s 12ms/step - loss: 1.4755 - balanced_sparse_categorical_accuracy: 0.8209 - val_loss: 1.2641 - val_balanced_sparse_categorical_accuracy: 0.8095\n",
            "Epoch 5/50\n",
            "499/499 [==============================] - 7s 12ms/step - loss: 1.4406 - balanced_sparse_categorical_accuracy: 0.8215 - val_loss: 1.2332 - val_balanced_sparse_categorical_accuracy: 0.8137\n",
            "Epoch 6/50\n",
            "499/499 [==============================] - 6s 12ms/step - loss: 1.4000 - balanced_sparse_categorical_accuracy: 0.8377 - val_loss: 1.2012 - val_balanced_sparse_categorical_accuracy: 0.8276\n",
            "Epoch 7/50\n",
            "499/499 [==============================] - 7s 13ms/step - loss: 1.3619 - balanced_sparse_categorical_accuracy: 0.8422 - val_loss: 1.1920 - val_balanced_sparse_categorical_accuracy: 0.8044\n",
            "Epoch 8/50\n",
            "499/499 [==============================] - 7s 12ms/step - loss: 1.3328 - balanced_sparse_categorical_accuracy: 0.8477 - val_loss: 1.1453 - val_balanced_sparse_categorical_accuracy: 0.8054\n",
            "Epoch 9/50\n",
            "499/499 [==============================] - 7s 12ms/step - loss: 1.2971 - balanced_sparse_categorical_accuracy: 0.8468 - val_loss: 1.1324 - val_balanced_sparse_categorical_accuracy: 0.8121\n",
            "Epoch 10/50\n",
            "499/499 [==============================] - 7s 12ms/step - loss: 1.2762 - balanced_sparse_categorical_accuracy: 0.8547 - val_loss: 1.1193 - val_balanced_sparse_categorical_accuracy: 0.8045\n",
            "Epoch 11/50\n",
            "499/499 [==============================] - 7s 12ms/step - loss: 1.2457 - balanced_sparse_categorical_accuracy: 0.8639 - val_loss: 1.1145 - val_balanced_sparse_categorical_accuracy: 0.7999\n",
            "Epoch 12/50\n",
            "499/499 [==============================] - 6s 12ms/step - loss: 1.2203 - balanced_sparse_categorical_accuracy: 0.8614 - val_loss: 1.1062 - val_balanced_sparse_categorical_accuracy: 0.8003\n",
            "Epoch 13/50\n",
            "499/499 [==============================] - 7s 13ms/step - loss: 1.1934 - balanced_sparse_categorical_accuracy: 0.8743 - val_loss: 1.0720 - val_balanced_sparse_categorical_accuracy: 0.8029\n",
            "Epoch 14/50\n",
            "499/499 [==============================] - 7s 12ms/step - loss: 1.1622 - balanced_sparse_categorical_accuracy: 0.8813 - val_loss: 1.0745 - val_balanced_sparse_categorical_accuracy: 0.7970\n",
            "Epoch 15/50\n",
            "499/499 [==============================] - 7s 13ms/step - loss: 1.1389 - balanced_sparse_categorical_accuracy: 0.8837 - val_loss: 1.0221 - val_balanced_sparse_categorical_accuracy: 0.7913\n",
            "Epoch 16/50\n",
            "499/499 [==============================] - 7s 12ms/step - loss: 1.1149 - balanced_sparse_categorical_accuracy: 0.8893 - val_loss: 1.0201 - val_balanced_sparse_categorical_accuracy: 0.7987\n",
            "Restoring model weights from the end of the best epoch.\n",
            "Epoch 00016: early stopping\n",
            "    Model training completed. Following metrics available: dict_keys(['loss', 'balanced_sparse_categorical_accuracy', 'val_loss', 'val_balanced_sparse_categorical_accuracy', 'lr'])\n",
            "Time taken to train model (in mins) = 9\n",
            "8908\n",
            "    Stopped epoch = 6\n"
          ]
        },
        {
          "output_type": "display_data",
          "data": {
            "image/png": "[encoded data removed]",
            "text/plain": [
              "<Figure size 1080x432 with 2 Axes>"
            ]
          },
          "metadata": {
            "needs_background": "light"
          }
        },
        {
          "output_type": "stream",
          "name": "stdout",
          "text": [
            "Time taken to train model (in mins) = 9\n",
            "    Stopped epoch = 6\n",
            "Held out data actuals shape: (3200,)\n",
            "    samples from label: [0, 0, 0, 0, 0, 0, 0, 0, 0, 0]\n",
            "\n",
            "Held out predictions shape:(3200,)\n",
            "    Sample predictions: [0 0 0 0 1 0 0 0 0 0]\n",
            "\n",
            "###########################################################\n",
            "         Held-out test data set Results:\n",
            "Single Label, Multi Class Model Metrics Report: label\n",
            "#################################################################\n"
          ]
        },
        {
          "output_type": "display_data",
          "data": {
            "text/html": [
              "<style>.container { width:95% !important; }</style>"
            ],
            "text/plain": [
              "<IPython.core.display.HTML object>"
            ]
          },
          "metadata": {}
        },
        {
          "output_type": "stream",
          "name": "stdout",
          "text": [
            "    Accuracy          = 86.6%\n",
            "    Balanced Accuracy = 81.9%\n",
            "    Precision         = 30.5%\n",
            "    Average Precision = 64.3%\n",
            "    Recall            = 76.5%\n",
            "    F1 Score          = 43.6%\n",
            "    ROC AUC           = 85.7%\n",
            "#####################################################\n",
            "\n",
            "Finally, training on full train dataset. This will take time...\n",
            "    best learning rate = 8.350442e-05\n",
            "    set learning rate using best model: 8.350442e-05\n",
            "    max epochs for training = 6\n",
            "\n",
            "Model not being saved since save_model_flag set to False...\n",
            "6217\n",
            "\n",
            "Saving vocab dictionary using pickle in Twitter_sentiment/auto/model_2021_11_07-17_22_56/artifacts/cat_vocab_dict.pickle...will take time...\n",
            "    Saved pickle file in Twitter_sentiment/auto/model_2021_11_07-17_22_56/artifacts/cat_vocab_dict.pickle\n",
            "\n",
            "Saving variable definitions file using pickle in Twitter_sentiment/auto/model_2021_11_07-17_22_56/artifacts/var_df.pickle...will take time...\n",
            "    Saved pickle file in Twitter_sentiment/auto/model_2021_11_07-17_22_56/artifacts/var_df.pickle\n",
            "\n",
            "Deep_Auto_ViML completed. Total time taken = 10 (in mins)\n",
            "\n",
            "Saving model architecture after training in Twitter_sentiment/auto/model_2021_11_07-17_22_56/artifacts/model_after.png...will take time...\n",
            "Model plot saved in file: Twitter_sentiment/auto/model_2021_11_07-17_22_56/artifacts/model_after.png\n"
          ]
        },
        {
          "output_type": "display_data",
          "data": {
            "image/png": "[encoded data removed]",
            "text/plain": [
              "<IPython.core.display.Image object>"
            ]
          },
          "metadata": {
            "image/png": {
              "width": 2064,
              "height": 39
            }
          }
        },
        {
          "output_type": "display_data",
          "data": {
            "image/png": "[encoded data removed]",
            "text/plain": [
              "<Figure size 1080x432 with 4 Axes>"
            ]
          },
          "metadata": {
            "needs_background": "light"
          }
        }
      ]
    },
    {
      "cell_type": "code",
      "metadata": {
        "id": "GXpXp-6mw3U8",
        "colab": {
          "base_uri": "https://localhost:8080/"
        },
        "outputId": "cb0d2fc8-ecb7-4a06-c804-9e2d7c168002"
      },
      "source": [
        "testpath = '/content/test.csv'\n",
        "predictions = deepauto.predict(model, project_name='Twitter_sentiment', test_dataset=testpath,\n",
        "                                 keras_model_type=keras_model_type, \n",
        "                                 cat_vocab_dict=dicti)"
      ],
      "execution_count": 12,
      "outputs": [
        {
          "output_type": "stream",
          "name": "stdout",
          "text": [
            "\n",
            "Loading deep_autoviml model from <tensorflow.python.keras.engine.functional.Functional object at 0x7f7b1c6c3e90> folder. This will take time...\n",
            "\n",
            "Using <tensorflow.python.keras.engine.functional.Functional object at 0x7f7b1c6c3e90> model provided as input...\n",
            "Time taken to load saved model = 0 seconds\n",
            "Loaded test data size: 17197\n",
            "Alert! Modified column names to satisfy rules for column names in Tensorflow...\n",
            "############## C L A S S I F Y I N G  V A R I A B L E S  ####################\n",
            "Classifying variables in data set...\n",
            "    2 Predictors classified...\n",
            "    possible latitude columns in dataset: []\n",
            "        after further analysis, no latitude columns found\n",
            "    possible longitude columns in dataset: []\n",
            "        after further analysis, no longitude columns found\n",
            "        1 variable(s) to be removed since they were ID or low-information variables\n",
            "Distribution of string columns in datatset:\n",
            "    number of binary = 0, cats = 0, high cats = 0, very high cats = 1\n",
            "Distribution of integer columns in datatset:\n",
            "    number of binary = 0, cats = 0, high cats = 0, very high cats = 1\n",
            "Distribution of floats:\n",
            "    number float variables = 0\n",
            "No data transformations needed in this dataset\n",
            "    we transformed ['id'] from integer to float\n",
            "tweet is detected and will be treated as an NLP variable\n",
            "    after data cleaning, number of predictors used in modeling = 1\n",
            "Not performing feature crossing for categorical nor integer variables\n",
            "    test data loaded successfully.\n",
            "    combined NLP or text vars: ['tweet'] into a single feature successfully\n",
            "test data size =  17197 , batch_size =  32\n",
            "Boolean column successfully processed\n",
            "Batch size = 32\n",
            "    number of steps needed to predict: 538\n",
            "    Sample predictions before inverse_transform: [0 1 0 0 0]\n",
            "    Sample predictions after transform: [0 1 0 0 0]\n",
            "Returning model predictions in form of a list...of length 2\n",
            "Time taken in mins for predictions = 0\n"
          ]
        }
      ]
    }
  ]
}