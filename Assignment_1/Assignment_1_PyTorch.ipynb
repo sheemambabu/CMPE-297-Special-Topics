{
  "nbformat": 4,
  "nbformat_minor": 0,
  "metadata": {
    "colab": {
      "name": "Assignment_1_PyTorch.ipynb",
      "provenance": [],
      "collapsed_sections": [],
      "authorship_tag": "ABX9TyNU6R+qfT6Qo8eDHp9l3i11",
      "include_colab_link": true
    },
    "kernelspec": {
      "name": "python3",
      "display_name": "Python 3"
    },
    "language_info": {
      "name": "python"
    },
    "accelerator": "GPU"
  },
  "cells": [
    {
      "cell_type": "markdown",
      "metadata": {
        "id": "view-in-github",
        "colab_type": "text"
      },
      "source": [
        "<a href=\"https://colab.research.google.com/github/sheemambabu/CMPE-297-Special-Topics/blob/main/Assignment_1/Assignment_1_PyTorch.ipynb\" target=\"_parent\"><img src=\"https://colab.research.google.com/assets/colab-badge.svg\" alt=\"Open In Colab\"/></a>"
      ]
    },
    {
      "cell_type": "markdown",
      "metadata": {
        "id": "lLbngfe76-t6"
      },
      "source": [
        "# CMPE: 297 Special Topics\n",
        "# Assignment-1: Implement simclr in PyTorch\n",
        "# By: Sheema Murugesh Babu (SJSU-ID: 015217176)"
      ]
    },
    {
      "cell_type": "markdown",
      "metadata": {
        "id": "5sUGjFuVo-aq"
      },
      "source": [
        "## Importing the necessary libraries"
      ]
    },
    {
      "cell_type": "code",
      "metadata": {
        "id": "4Fk3K6NvlcWz"
      },
      "source": [
        "# Basic Imports\n",
        "\n",
        "import os\n",
        "import numpy as np\n",
        "import matplotlib.pyplot as plt\n",
        "import seaborn as sns"
      ],
      "execution_count": null,
      "outputs": []
    },
    {
      "cell_type": "code",
      "metadata": {
        "id": "vIQxFo_Spenb"
      },
      "source": [
        "# PyTorch Imports\n",
        "\n",
        "import torch.nn as nn\n",
        "import torchvision.transforms as transforms"
      ],
      "execution_count": null,
      "outputs": []
    },
    {
      "cell_type": "code",
      "metadata": {
        "id": "HDTxqKgVpoc2"
      },
      "source": [
        "# Image Manipulation imports\n",
        "\n",
        "from PIL import Image\n",
        "from collections import OrderedDict, namedtuple"
      ],
      "execution_count": null,
      "outputs": []
    },
    {
      "cell_type": "markdown",
      "metadata": {
        "id": "UeBMSGRPqJM9"
      },
      "source": [
        "## Imagenet Dataset download"
      ]
    },
    {
      "cell_type": "code",
      "metadata": {
        "colab": {
          "base_uri": "https://localhost:8080/"
        },
        "id": "UCBkliOypzMT",
        "outputId": "125cb0b4-109e-46ed-9e9e-1392d84e8ff2"
      },
      "source": [
        "!gdown https://drive.google.com/uc?id=1x3BSoqoe76FcWdbagLj6Mx6_2EAJ982g"
      ],
      "execution_count": null,
      "outputs": [
        {
          "output_type": "stream",
          "name": "stdout",
          "text": [
            "Downloading...\n",
            "From: https://drive.google.com/uc?id=1x3BSoqoe76FcWdbagLj6Mx6_2EAJ982g\n",
            "To: /content/milli_imagenet.zip\n",
            "92.9MB [00:00, 164MB/s]\n"
          ]
        }
      ]
    },
    {
      "cell_type": "code",
      "metadata": {
        "colab": {
          "base_uri": "https://localhost:8080/"
        },
        "id": "QGEDy-ruqc5l",
        "outputId": "f906d7a2-c48b-470b-a474-1979f668cea6"
      },
      "source": [
        "# Zipping the file\n",
        "\n",
        "import zipfile\n",
        "\n",
        "with zipfile.ZipFile('milli_imagenet.zip', 'r') as zip_ref:\n",
        "  zip_ref.extractall('/content/')\n",
        "\n",
        "# Displaying the contents of the file\n",
        "\n",
        "!cat milli_imagenet/mapper.json"
      ],
      "execution_count": null,
      "outputs": [
        {
          "output_type": "stream",
          "name": "stdout",
          "text": [
            "{\"car\": 0, \"airplane\": 1, \"elephant\": 2, \"dog\": 3, \"cat\": 4}\n"
          ]
        }
      ]
    },
    {
      "cell_type": "markdown",
      "metadata": {
        "id": "5HHAqqVVrPuk"
      },
      "source": [
        "## Utility Functions"
      ]
    },
    {
      "cell_type": "code",
      "metadata": {
        "id": "GYcI-8R3rT8x"
      },
      "source": [
        "# NT-Xent Loss Function\n",
        "\n",
        "tau = 0.05\n",
        "\n",
        "# Function that calculates NT-Xent\n",
        "def loss_function(a, b):\n",
        "    a_norm = torch.norm(a, dim=1).reshape(-1, 1)\n",
        "    a_cap = torch.div(a, a_norm)\n",
        "    b_norm = torch.norm(b, dim=1).reshape(-1, 1)\n",
        "    b_cap = torch.div(b, b_norm)\n",
        "    a_cap_b_cap = torch.cat([a_cap, b_cap], dim=0)\n",
        "    a_cap_b_cap_transpose = torch.t(a_cap_b_cap)\n",
        "    b_cap_a_cap = torch.cat([b_cap, a_cap], dim=0)\n",
        "    sim = torch.mm(a_cap_b_cap, a_cap_b_cap_transpose)\n",
        "    sim_by_tau = torch.div(sim, tau)\n",
        "    exp_sim_by_tau = torch.exp(sim_by_tau)\n",
        "    sum_of_rows = torch.sum(exp_sim_by_tau, dim=1)\n",
        "    exp_sim_by_tau_diag = torch.diag(exp_sim_by_tau)\n",
        "    numerators = torch.exp(torch.div(torch.nn.CosineSimilarity()(a_cap_b_cap, b_cap_a_cap), tau))\n",
        "    denominators = sum_of_rows - exp_sim_by_tau_diag\n",
        "    num_by_den = torch.div(numerators, denominators)\n",
        "    neglog_num_by_den = -torch.log(num_by_den)\n",
        "    return torch.mean(neglog_num_by_den)"
      ],
      "execution_count": null,
      "outputs": []
    },
    {
      "cell_type": "code",
      "metadata": {
        "id": "N9lUgEcirvhE"
      },
      "source": [
        "# Loss Function Plotting\n",
        "\n",
        "def plot_losses(arr, legend_name):\n",
        "    plt.figure(figsize=(10, 10))\n",
        "    sns.set_style('darkgrid')\n",
        "    plt.plot(arr)\n",
        "    plt.xlabel('Steps')\n",
        "    plt.ylabel('Loss')\n",
        "    plt.show()"
      ],
      "execution_count": null,
      "outputs": []
    },
    {
      "cell_type": "markdown",
      "metadata": {
        "id": "JRHAJXdxsMnO"
      },
      "source": [
        "## Training"
      ]
    },
    {
      "cell_type": "code",
      "metadata": {
        "id": "OEzxKaNPsRHK"
      },
      "source": [
        "import torch\n",
        "\n",
        "class TrainDataset(torch.utils.data.Dataset):\n",
        "    def __init__(self, args):\n",
        "        self.args = args\n",
        "        with open(os.path.join(args.datapath, \"train\",\"names.txt\")) as f:\n",
        "            self.filenames = f.read().split('\\n')\n",
        " \n",
        "    def __len__(self):\n",
        "        return len(self.filenames)\n",
        "\n",
        "    def tensorify(self, img):\n",
        "        return transforms.Normalize((0.5, 0.5, 0.5), (0.5, 0.5, 0.5))(\n",
        "            transforms.ToTensor()(img)\n",
        "            )\n",
        "    # Produces distortion in colors based on arguments \n",
        "    def get_color_distortion(self, s=1.0):\n",
        "        color_jitter = transforms.ColorJitter(0.8 * s, 0.8 * s, 0.8 * s, 0.2 * s)\n",
        "        rnd_color_jitter =  transforms.RandomApply([color_jitter], p=0.8)\n",
        "        rnd_gray =  transforms.RandomGrayscale(p=0.2)\n",
        "        color_distort =  transforms.Compose([rnd_color_jitter, rnd_gray])\n",
        "        return color_distort\n",
        "\n",
        "    # Aids in augmentation of images\n",
        "    def augmented_image(self, img):\n",
        "        return self.get_color_distortion(1)(\n",
        "            transforms.RandomResizedCrop(224)(img)\n",
        "            )    \n",
        "\n",
        "    def __getitem__(self, idx):\n",
        "        img = transforms.Resize((224, 224))(\n",
        "                                Image.open(os.path.join(args.datapath, 'train', self.filenames[idx])).convert('RGB')\n",
        "                            )\n",
        "        return {\n",
        "        'image1':self.tensorify(\n",
        "            self.augmented_image(img)\n",
        "            ), \n",
        "        'image2': self.tensorify(\n",
        "            self.augmented_image(img)\n",
        "            )\n",
        "        }"
      ],
      "execution_count": null,
      "outputs": []
    },
    {
      "cell_type": "markdown",
      "metadata": {
        "id": "-3Rfjrvatn-E"
      },
      "source": [
        "## ResNet Model"
      ]
    },
    {
      "cell_type": "code",
      "metadata": {
        "id": "P2YOfLiItdzp"
      },
      "source": [
        "from torchvision.models import resnet18\n",
        "\n",
        "def get_model(args):\n",
        "    resnet = resnet18(pretrained=False)\n",
        "\n",
        "    classifier = nn.Sequential(OrderedDict([\n",
        "        ('fc1', nn.Linear(resnet.fc.in_features, 100)),\n",
        "        ('added_relu1', nn.ReLU(inplace=True)),\n",
        "        ('fc2', nn.Linear(100, 100)),\n",
        "        ('added_relu2', nn.ReLU(inplace=True)),\n",
        "        ('fc3', nn.Linear(100, 100))\n",
        "    ]))\n",
        "\n",
        "    resnet.fc = classifier\n",
        "\n",
        "    if args.multiple_gpus:\n",
        "        resnet = nn.DataParallel(resnet)\n",
        "\n",
        "    resnet.to(args.device)\n",
        "\n",
        "    return resnet"
      ],
      "execution_count": null,
      "outputs": []
    },
    {
      "cell_type": "markdown",
      "metadata": {
        "id": "er5l1UB7t2r_"
      },
      "source": [
        "## SimCLR Training loop"
      ]
    },
    {
      "cell_type": "code",
      "metadata": {
        "id": "2UbZMDJ9tw4R"
      },
      "source": [
        "class SimCLR:\n",
        "    def __init__(self, model, optimizer, dataloaders, loss_fn):\n",
        "        self.model = model\n",
        "        self.optimizer = optimizer\n",
        "        self.dataloaders = dataloaders\n",
        "        self.loss_fn = loss_fn\n",
        "\n",
        "    def train(self, args, num_epochs, log_interval):\n",
        "        batch_losses = []\n",
        "\n",
        "        self.model.train()\n",
        "    \n",
        "        # run a for loop for num_epochs\n",
        "        for epoch in range(num_epochs):\n",
        "\n",
        "            # run a for loop for each batch\n",
        "            for step, batch in enumerate(self.dataloaders['train']):\n",
        "                # zero out grads\n",
        "                self.optimizer.zero_grad()\n",
        "\n",
        "                x1 = batch['image1'].to(args.device)\n",
        "                x2 = batch['image2'].to(args.device)\n",
        "\n",
        "                # get their outputs\n",
        "                y1 = self.model(x1)\n",
        "                y2 = self.model(x2)\n",
        "\n",
        "                # get loss value\n",
        "                loss = self.loss_fn(y1, y2)\n",
        "\n",
        "                batch_losses.append(loss.cpu().data.item())\n",
        "\n",
        "                # perform backprop on loss value to get gradient values\n",
        "                loss.backward()\n",
        "\n",
        "                # run the optimizer\n",
        "                self.optimizer.step()\n",
        "                \n",
        "                if step % log_interval == 0:\n",
        "                    print(f'Epoch: {epoch} / {num_epochs} Step: {step} Loss: {loss.item()}')\n",
        "                \n",
        "                if step >= 5:\n",
        "                  break\n",
        "            \n",
        "        plot_losses(batch_losses, 'Training Losses')"
      ],
      "execution_count": null,
      "outputs": []
    },
    {
      "cell_type": "markdown",
      "metadata": {
        "id": "w47W3wACuWz0"
      },
      "source": [
        "## SimCLR: Run"
      ]
    },
    {
      "cell_type": "code",
      "metadata": {
        "colab": {
          "base_uri": "https://localhost:8080/",
          "height": 1000
        },
        "id": "MxMd_QgWuUMd",
        "outputId": "44a9cee4-d141-4c96-f179-3e014712ed65"
      },
      "source": [
        "args = {\n",
        "    'datapath': '/content/milli_imagenet',\n",
        "    'cuda': False,\n",
        "    'batch_size': 5,\n",
        "    'num_workers': 2,\n",
        "    'multiple_gpus': False,\n",
        "}\n",
        "args['device'] = torch.device('cuda' if args['cuda'] else 'cpu')\n",
        "args = namedtuple('Args', args.keys())(*args.values())\n",
        "\n",
        "model = get_model(args)\n",
        "\n",
        "optimizer = torch.optim.Adam(\n",
        "    model.parameters(), \n",
        "    lr=0.001, \n",
        "    weight_decay=1e-4\n",
        "    )\n",
        "\n",
        "dataloaders = {}\n",
        "ds = TrainDataset(args)\n",
        "print(f'{len(ds)} images are being trained!')\n",
        "\n",
        "dataloaders['train'] = torch.utils.data.DataLoader(\n",
        "    ds, \n",
        "    batch_size=args.batch_size, \n",
        "    shuffle=True, \n",
        "    num_workers=args.num_workers\n",
        "    )\n",
        "\n",
        "loss_fn = loss_function\n",
        "simclrobj = SimCLR(model, optimizer, dataloaders, loss_fn)\n",
        "simclrobj.train(args, 50, 5)"
      ],
      "execution_count": null,
      "outputs": [
        {
          "output_type": "stream",
          "name": "stdout",
          "text": [
            "1250 images are being trained!\n"
          ]
        },
        {
          "output_type": "stream",
          "name": "stderr",
          "text": [
            "/usr/local/lib/python3.7/dist-packages/torch/nn/functional.py:718: UserWarning: Named tensors and all their associated APIs are an experimental feature and subject to change. Please do not use them for anything important until they are released as stable. (Triggered internally at  /pytorch/c10/core/TensorImpl.h:1156.)\n",
            "  return torch.max_pool2d(input, kernel_size, stride, padding, dilation, ceil_mode)\n"
          ]
        },
        {
          "output_type": "stream",
          "name": "stdout",
          "text": [
            "Epoch: 0 / 50 Step: 0 Loss: 2.1641881465911865\n",
            "Epoch: 0 / 50 Step: 5 Loss: 1.6998306512832642\n",
            "Epoch: 1 / 50 Step: 0 Loss: 1.4341919422149658\n",
            "Epoch: 1 / 50 Step: 5 Loss: 3.1036179065704346\n",
            "Epoch: 2 / 50 Step: 0 Loss: 2.1740825176239014\n",
            "Epoch: 2 / 50 Step: 5 Loss: 2.213608503341675\n",
            "Epoch: 3 / 50 Step: 0 Loss: 2.100639820098877\n",
            "Epoch: 3 / 50 Step: 5 Loss: 2.178079128265381\n",
            "Epoch: 4 / 50 Step: 0 Loss: 2.2445876598358154\n",
            "Epoch: 4 / 50 Step: 5 Loss: 2.2679905891418457\n",
            "Epoch: 5 / 50 Step: 0 Loss: 2.2541544437408447\n",
            "Epoch: 5 / 50 Step: 5 Loss: 2.1851871013641357\n",
            "Epoch: 6 / 50 Step: 0 Loss: 2.3266541957855225\n",
            "Epoch: 6 / 50 Step: 5 Loss: 2.1280016899108887\n",
            "Epoch: 7 / 50 Step: 0 Loss: 2.0651729106903076\n",
            "Epoch: 7 / 50 Step: 5 Loss: 2.0666632652282715\n",
            "Epoch: 8 / 50 Step: 0 Loss: 2.097670793533325\n",
            "Epoch: 8 / 50 Step: 5 Loss: 2.3685600757598877\n",
            "Epoch: 9 / 50 Step: 0 Loss: 2.6970417499542236\n",
            "Epoch: 9 / 50 Step: 5 Loss: 2.236569881439209\n",
            "Epoch: 10 / 50 Step: 0 Loss: 2.282827854156494\n",
            "Epoch: 10 / 50 Step: 5 Loss: 2.1931240558624268\n",
            "Epoch: 11 / 50 Step: 0 Loss: 2.1357853412628174\n",
            "Epoch: 11 / 50 Step: 5 Loss: 2.2071516513824463\n",
            "Epoch: 12 / 50 Step: 0 Loss: 2.1242575645446777\n",
            "Epoch: 12 / 50 Step: 5 Loss: 2.216907501220703\n",
            "Epoch: 13 / 50 Step: 0 Loss: 2.180044651031494\n",
            "Epoch: 13 / 50 Step: 5 Loss: 2.2557168006896973\n",
            "Epoch: 14 / 50 Step: 0 Loss: 2.1540675163269043\n",
            "Epoch: 14 / 50 Step: 5 Loss: 2.0655293464660645\n",
            "Epoch: 15 / 50 Step: 0 Loss: 2.1703150272369385\n",
            "Epoch: 15 / 50 Step: 5 Loss: 2.163806915283203\n",
            "Epoch: 16 / 50 Step: 0 Loss: 2.1661252975463867\n",
            "Epoch: 16 / 50 Step: 5 Loss: 2.084867477416992\n",
            "Epoch: 17 / 50 Step: 0 Loss: 2.144531726837158\n",
            "Epoch: 17 / 50 Step: 5 Loss: 2.245307207107544\n",
            "Epoch: 18 / 50 Step: 0 Loss: 2.1272919178009033\n",
            "Epoch: 18 / 50 Step: 5 Loss: 2.131608486175537\n",
            "Epoch: 19 / 50 Step: 0 Loss: 1.9318469762802124\n",
            "Epoch: 19 / 50 Step: 5 Loss: 2.077965259552002\n",
            "Epoch: 20 / 50 Step: 0 Loss: 2.7216663360595703\n",
            "Epoch: 20 / 50 Step: 5 Loss: 2.0806310176849365\n",
            "Epoch: 21 / 50 Step: 0 Loss: 2.299273729324341\n",
            "Epoch: 21 / 50 Step: 5 Loss: 2.2091288566589355\n",
            "Epoch: 22 / 50 Step: 0 Loss: 2.4896295070648193\n",
            "Epoch: 22 / 50 Step: 5 Loss: 2.0444722175598145\n",
            "Epoch: 23 / 50 Step: 0 Loss: 2.2306694984436035\n",
            "Epoch: 23 / 50 Step: 5 Loss: 2.0959854125976562\n",
            "Epoch: 24 / 50 Step: 0 Loss: 2.0605947971343994\n",
            "Epoch: 24 / 50 Step: 5 Loss: 2.090890407562256\n",
            "Epoch: 25 / 50 Step: 0 Loss: 2.2334697246551514\n",
            "Epoch: 25 / 50 Step: 5 Loss: 2.182398557662964\n",
            "Epoch: 26 / 50 Step: 0 Loss: 2.1766395568847656\n",
            "Epoch: 26 / 50 Step: 5 Loss: 2.1827259063720703\n",
            "Epoch: 27 / 50 Step: 0 Loss: 2.109567403793335\n",
            "Epoch: 27 / 50 Step: 5 Loss: 2.227499008178711\n",
            "Epoch: 28 / 50 Step: 0 Loss: 2.0960781574249268\n",
            "Epoch: 28 / 50 Step: 5 Loss: 2.0718581676483154\n",
            "Epoch: 29 / 50 Step: 0 Loss: 2.0448412895202637\n",
            "Epoch: 29 / 50 Step: 5 Loss: 2.251734495162964\n",
            "Epoch: 30 / 50 Step: 0 Loss: 2.1981287002563477\n",
            "Epoch: 30 / 50 Step: 5 Loss: 2.350465774536133\n",
            "Epoch: 31 / 50 Step: 0 Loss: 2.3775622844696045\n",
            "Epoch: 31 / 50 Step: 5 Loss: 2.1153595447540283\n",
            "Epoch: 32 / 50 Step: 0 Loss: 2.0780694484710693\n",
            "Epoch: 32 / 50 Step: 5 Loss: 2.193382978439331\n",
            "Epoch: 33 / 50 Step: 0 Loss: 2.1143670082092285\n",
            "Epoch: 33 / 50 Step: 5 Loss: 2.2313199043273926\n",
            "Epoch: 34 / 50 Step: 0 Loss: 2.13588809967041\n",
            "Epoch: 34 / 50 Step: 5 Loss: 1.9377353191375732\n",
            "Epoch: 35 / 50 Step: 0 Loss: 2.246098518371582\n",
            "Epoch: 35 / 50 Step: 5 Loss: 2.4939732551574707\n",
            "Epoch: 36 / 50 Step: 0 Loss: 2.512697696685791\n",
            "Epoch: 36 / 50 Step: 5 Loss: 1.9659874439239502\n",
            "Epoch: 37 / 50 Step: 0 Loss: 1.8145822286605835\n",
            "Epoch: 37 / 50 Step: 5 Loss: 2.028245687484741\n",
            "Epoch: 38 / 50 Step: 0 Loss: 1.9695087671279907\n",
            "Epoch: 38 / 50 Step: 5 Loss: 2.224825382232666\n",
            "Epoch: 39 / 50 Step: 0 Loss: 2.262122869491577\n",
            "Epoch: 39 / 50 Step: 5 Loss: 2.076035737991333\n",
            "Epoch: 40 / 50 Step: 0 Loss: 2.164226531982422\n",
            "Epoch: 40 / 50 Step: 5 Loss: 2.3528294563293457\n",
            "Epoch: 41 / 50 Step: 0 Loss: 2.1026053428649902\n",
            "Epoch: 41 / 50 Step: 5 Loss: 2.078810930252075\n",
            "Epoch: 42 / 50 Step: 0 Loss: 2.071209192276001\n",
            "Epoch: 42 / 50 Step: 5 Loss: 1.7234750986099243\n",
            "Epoch: 43 / 50 Step: 0 Loss: 2.447901964187622\n",
            "Epoch: 43 / 50 Step: 5 Loss: 1.8218168020248413\n",
            "Epoch: 44 / 50 Step: 0 Loss: 2.4825615882873535\n",
            "Epoch: 44 / 50 Step: 5 Loss: 2.3127150535583496\n",
            "Epoch: 45 / 50 Step: 0 Loss: 2.171353340148926\n",
            "Epoch: 45 / 50 Step: 5 Loss: 2.171147108078003\n",
            "Epoch: 46 / 50 Step: 0 Loss: 2.0602622032165527\n",
            "Epoch: 46 / 50 Step: 5 Loss: 2.183722972869873\n",
            "Epoch: 47 / 50 Step: 0 Loss: 2.1581766605377197\n",
            "Epoch: 47 / 50 Step: 5 Loss: 2.073861598968506\n",
            "Epoch: 48 / 50 Step: 0 Loss: 2.170535087585449\n",
            "Epoch: 48 / 50 Step: 5 Loss: 2.1868975162506104\n",
            "Epoch: 49 / 50 Step: 0 Loss: 2.1064844131469727\n",
            "Epoch: 49 / 50 Step: 5 Loss: 2.1600148677825928\n"
          ]
        },
        {
          "output_type": "display_data",
          "data": {
            "image/png": "[encoded data removed]",
            "text/plain": [
              "<Figure size 720x720 with 1 Axes>"
            ]
          },
          "metadata": {
            "needs_background": "light"
          }
        }
      ]
    }
  ]
}